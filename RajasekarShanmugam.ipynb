{
 "cells": [
  {
   "cell_type": "markdown",
   "metadata": {},
   "source": [
    "# Gesture Recognition\n",
    "In this group project, you are going to build a 3D Conv model that will be able to predict the 5 gestures correctly. Please import the following libraries to get started."
   ]
  },
  {
   "cell_type": "code",
   "execution_count": 1,
   "metadata": {},
   "outputs": [],
   "source": [
    "import numpy as np\n",
    "import os\n",
    "from scipy.misc import imread, imresize\n",
    "import datetime\n",
    "import os"
   ]
  },
  {
   "cell_type": "markdown",
   "metadata": {},
   "source": [
    "We set the random seed so that the results don't vary drastically."
   ]
  },
  {
   "cell_type": "code",
   "execution_count": 2,
   "metadata": {},
   "outputs": [
    {
     "name": "stderr",
     "output_type": "stream",
     "text": [
      "Using TensorFlow backend.\n"
     ]
    }
   ],
   "source": [
    "np.random.seed(30)\n",
    "import random as rn\n",
    "rn.seed(30)\n",
    "from keras import backend as K\n",
    "import tensorflow as tf\n",
    "tf.set_random_seed(30)"
   ]
  },
  {
   "cell_type": "markdown",
   "metadata": {},
   "source": [
    "In this block, you read the folder names for training and validation. You also set the `batch_size` here. Note that you set the batch size in such a way that you are able to use the GPU in full capacity. You keep increasing the batch size until the machine throws an error."
   ]
  },
  {
   "cell_type": "code",
   "execution_count": 3,
   "metadata": {},
   "outputs": [],
   "source": [
    "train_doc = np.random.permutation(open('./Project_data/train.csv').readlines())\n",
    "val_doc = np.random.permutation(open('./Project_data/val.csv').readlines())\n",
    "batch_size = 10 #experiment with the batch size"
   ]
  },
  {
   "cell_type": "markdown",
   "metadata": {},
   "source": [
    "## Generator\n",
    "This is one of the most important part of the code. The overall structure of the generator has been given. In the generator, you are going to preprocess the images as you have images of 2 different dimensions as well as create a batch of video frames. You have to experiment with `img_idx`, `y`,`z` and normalization such that you get high accuracy."
   ]
  },
  {
   "cell_type": "code",
   "execution_count": 4,
   "metadata": {},
   "outputs": [],
   "source": [
    "# Initialize parameters\n",
    "\n",
    "x = 30 # number of images you use for each video\n",
    "y = 250 # final size of the input images (width)\n",
    "z = 250 # final size of the input images (height)"
   ]
  },
  {
   "cell_type": "code",
   "execution_count": 5,
   "metadata": {},
   "outputs": [],
   "source": [
    "def generator(source_path, folder_list, batch_size,x,y,z):\n",
    "    print( 'Source path = ', source_path, '; batch size =', batch_size)\n",
    "    img_idx = [x for x in range(0,x)] #create a list of image numbers you want to use for a particular video\n",
    "    while True:\n",
    "        t = np.random.permutation(folder_list)\n",
    "        num_batches = len(folder_list)//batch_size # calculate the number of batches\n",
    "        for batch in range(num_batches): # we iterate over the number of batches\n",
    "            batch_data = np.zeros((batch_size,x,y,z,3)) # x is the number of images you use for each video, (y,z) is the final size of the input images and 3 is the number of channels RGB\n",
    "            batch_labels = np.zeros((batch_size,5)) # batch_labels is the one hot representation of the output\n",
    "            for folder in range(batch_size): # iterate over the batch_size\n",
    "                imgs = os.listdir(source_path+'/'+ t[folder + (batch*batch_size)].split(';')[0]) # read all the images in the folder\n",
    "                for idx,item in enumerate(img_idx): #  Iterate iver the frames/images of a folder to read them in\n",
    "                    image = imread(source_path+'/'+ t[folder + (batch*batch_size)].strip().split(';')[0]+'/'+imgs[item]).astype(np.float32)\n",
    "                    \n",
    "                    #crop the images and resize them. Note that the images are of 2 different shape \n",
    "                    #and the conv3D will throw error if the inputs in a batch have different shapes\n",
    "                    image_new = imresize(image,(y,z))\n",
    "                    \n",
    "                    #Normalize values between [-1.0,1.0].\n",
    "                    #As values for a pixel in grayscale are in range [0,255], \n",
    "                    #we needed to divide by 127.5, to bring 255 to 2.0.\n",
    "                    image_normalized = image_new/127.5 -1 \n",
    "                    \n",
    "                    batch_data[folder,idx,:,:,0] = (image_normalized[:,:,0])#normalise and feed in the image\n",
    "                    batch_data[folder,idx,:,:,1] = (image_normalized[:,:,1])#normalise and feed in the image\n",
    "                    batch_data[folder,idx,:,:,2] = (image_normalized[:,:,2])#normalise and feed in the image\n",
    "                    \n",
    "                batch_labels[folder, int(t[folder + (batch*batch_size)].strip().split(';')[2])] = 1\n",
    "            yield batch_data, batch_labels #you yield the batch_data and the batch_labels, remember what does yield do\n",
    "\n",
    "        \n",
    "        # write the code for the remaining data points which are left after full batches\n",
    "        if (len(folder_list) != batch_size*num_batches):\n",
    "            print(\"Batch: \",num_batches+1,\"Index:\", batch_size)\n",
    "            batch_size = len(folder_list) - (batch_size*num_batches)\n",
    "            batch_data = np.zeros((batch_size,x,y,z,3)) # x is the number of images you use for each video, (y,z) is the final size of the input images and 3 is the number of channels RGB\n",
    "            batch_labels = np.zeros((batch_size,5)) # batch_labels is the one hot representation of the output\n",
    "            for folder in range(batch_size): # iterate over the batch_size\n",
    "                imgs = os.listdir(source_path+'/'+ t[folder + (batch*batch_size)].split(';')[0]) # read all the images in the folder\n",
    "                for idx,item in enumerate(img_idx): #  Iterate iver the frames/images of a folder to read them in\n",
    "                    image = imread(source_path+'/'+ t[folder + (batch*batch_size)].strip().split(';')[0]+'/'+imgs[item]).astype(np.float32)\n",
    "                    \n",
    "                    #crop the images and resize them. Note that the images are of 2 different shape \n",
    "                    #and the conv3D will throw error if the inputs in a batch have different shapes\n",
    "                    image_new = imresize(image,(y,z))\n",
    "                    \n",
    "                    #Normalize values between [-1.0,1.0].\n",
    "                    #As values for a pixel in grayscale are in range [0,255], \n",
    "                    #we needed to divide by 127.5, to bring 255 to 2.0.\n",
    "                    image_normalized = image_new/127.5 -1 \n",
    "                    \n",
    "                    batch_data[folder,idx,:,:,0] = (image_normalized[:,:,0])#normalise and feed in the image\n",
    "                    batch_data[folder,idx,:,:,1] = (image_normalized[:,:,1])#normalise and feed in the image\n",
    "                    batch_data[folder,idx,:,:,2] = (image_normalized[:,:,2])#normalise and feed in the image\n",
    "                    \n",
    "                batch_labels[folder, int(t[folder + (batch*batch_size)].strip().split(';')[2])] = 1\n",
    "            yield batch_data, batch_labels"
   ]
  },
  {
   "cell_type": "markdown",
   "metadata": {},
   "source": [
    "Note here that a video is represented above in the generator as (number of images, height, width, number of channels). Take this into consideration while creating the model architecture."
   ]
  },
  {
   "cell_type": "code",
   "execution_count": 6,
   "metadata": {},
   "outputs": [
    {
     "name": "stdout",
     "output_type": "stream",
     "text": [
      "# training sequences = 663\n",
      "# validation sequences = 100\n",
      "# epochs = 10\n"
     ]
    }
   ],
   "source": [
    "import datetime\n",
    "\n",
    "curr_dt_time = datetime.datetime.now()\n",
    "train_path = './Project_data/train'\n",
    "val_path = './Project_data/val'\n",
    "num_train_sequences = len(train_doc)\n",
    "print('# training sequences =', num_train_sequences)\n",
    "num_val_sequences = len(val_doc)\n",
    "print('# validation sequences =', num_val_sequences)\n",
    "num_epochs = 10 # choose the number of epochs\n",
    "print ('# epochs =', num_epochs)"
   ]
  },
  {
   "cell_type": "markdown",
   "metadata": {},
   "source": [
    "## Model\n",
    "Here you make the model using different functionalities that Keras provides. Remember to use `Conv3D` and `MaxPooling3D` and not `Conv2D` and `Maxpooling2D` for a 3D convolution model. You would want to use `TimeDistributed` while building a Conv2D + RNN model. Also remember that the last layer is the softmax. Design the network in such a way that the model is able to give good accuracy on the least number of parameters so that it can fit in the memory of the webcam."
   ]
  },
  {
   "cell_type": "code",
   "execution_count": 7,
   "metadata": {},
   "outputs": [],
   "source": [
    "from keras.models import Sequential, Model\n",
    "from keras.layers import Dense, GRU, Flatten, TimeDistributed, Flatten, BatchNormalization, Activation, Dropout\n",
    "from keras.layers.convolutional import Conv3D, MaxPooling3D\n",
    "from keras.callbacks import ModelCheckpoint, ReduceLROnPlateau\n",
    "from keras import optimizers\n",
    "\n",
    "#write your model here\n",
    "model = Sequential()\n",
    "\n",
    "#1st Layer\n",
    "model.add(Conv3D(8, #number of filters \n",
    "                 kernel_size=(3,3,3), \n",
    "                 input_shape=(30, y, z, 3),\n",
    "                 padding='same'))\n",
    "model.add(BatchNormalization())\n",
    "model.add(Activation('relu'))\n",
    "model.add(MaxPooling3D(pool_size=(2,2,2)))\n",
    "\n",
    "#2nd Layer\n",
    "model.add(Conv3D(16, #Number of filters, \n",
    "                 kernel_size=(3,3,3), \n",
    "                 padding='same'))\n",
    "model.add(BatchNormalization())\n",
    "model.add(Activation('relu'))\n",
    "model.add(MaxPooling3D(pool_size=(2,2,2)))\n",
    "\n",
    "#3rd Layer\n",
    "model.add(Conv3D(32, #Number of filters \n",
    "                 kernel_size=(1,3,3), \n",
    "                 padding='same'))\n",
    "model.add(BatchNormalization())\n",
    "model.add(Activation('relu'))\n",
    "model.add(MaxPooling3D(pool_size=(2,2,2)))\n",
    "\n",
    "#4th Layer\n",
    "model.add(Conv3D(64, #Number pf filters \n",
    "                 kernel_size=(3,3,3), \n",
    "                 padding='same'))\n",
    "model.add(BatchNormalization())\n",
    "model.add(Activation('relu'))\n",
    "model.add(MaxPooling3D(pool_size=(2,2,2)))\n",
    "\n",
    "#Flatten Layers\n",
    "model.add(Flatten())\n",
    "\n",
    "# Use Dense Layer\n",
    "model.add(Dense(1000, activation='relu'))\n",
    "model.add(Dropout(0.5))\n",
    "model.add(Dense(500, activation='relu'))\n",
    "model.add(Dropout(0.5))\n",
    "\n",
    "#softmax layer\n",
    "model.add(Dense(5, activation='softmax')) # Since there are 5 possible gestures. Hence softmax output set to 5."
   ]
  },
  {
   "cell_type": "markdown",
   "metadata": {},
   "source": [
    "Now that you have written the model, the next step is to `compile` the model. When you print the `summary` of the model, you'll see the total number of parameters you have to train."
   ]
  },
  {
   "cell_type": "code",
   "execution_count": 8,
   "metadata": {
    "scrolled": true
   },
   "outputs": [
    {
     "name": "stdout",
     "output_type": "stream",
     "text": [
      "_________________________________________________________________\n",
      "Layer (type)                 Output Shape              Param #   \n",
      "=================================================================\n",
      "conv3d_1 (Conv3D)            (None, 30, 250, 250, 8)   656       \n",
      "_________________________________________________________________\n",
      "batch_normalization_1 (Batch (None, 30, 250, 250, 8)   32        \n",
      "_________________________________________________________________\n",
      "activation_1 (Activation)    (None, 30, 250, 250, 8)   0         \n",
      "_________________________________________________________________\n",
      "max_pooling3d_1 (MaxPooling3 (None, 15, 125, 125, 8)   0         \n",
      "_________________________________________________________________\n",
      "conv3d_2 (Conv3D)            (None, 15, 125, 125, 16)  3472      \n",
      "_________________________________________________________________\n",
      "batch_normalization_2 (Batch (None, 15, 125, 125, 16)  64        \n",
      "_________________________________________________________________\n",
      "activation_2 (Activation)    (None, 15, 125, 125, 16)  0         \n",
      "_________________________________________________________________\n",
      "max_pooling3d_2 (MaxPooling3 (None, 7, 62, 62, 16)     0         \n",
      "_________________________________________________________________\n",
      "conv3d_3 (Conv3D)            (None, 7, 62, 62, 32)     4640      \n",
      "_________________________________________________________________\n",
      "batch_normalization_3 (Batch (None, 7, 62, 62, 32)     128       \n",
      "_________________________________________________________________\n",
      "activation_3 (Activation)    (None, 7, 62, 62, 32)     0         \n",
      "_________________________________________________________________\n",
      "max_pooling3d_3 (MaxPooling3 (None, 3, 31, 31, 32)     0         \n",
      "_________________________________________________________________\n",
      "conv3d_4 (Conv3D)            (None, 3, 31, 31, 64)     55360     \n",
      "_________________________________________________________________\n",
      "batch_normalization_4 (Batch (None, 3, 31, 31, 64)     256       \n",
      "_________________________________________________________________\n",
      "activation_4 (Activation)    (None, 3, 31, 31, 64)     0         \n",
      "_________________________________________________________________\n",
      "max_pooling3d_4 (MaxPooling3 (None, 1, 15, 15, 64)     0         \n",
      "_________________________________________________________________\n",
      "flatten_1 (Flatten)          (None, 14400)             0         \n",
      "_________________________________________________________________\n",
      "dense_1 (Dense)              (None, 1000)              14401000  \n",
      "_________________________________________________________________\n",
      "dropout_1 (Dropout)          (None, 1000)              0         \n",
      "_________________________________________________________________\n",
      "dense_2 (Dense)              (None, 500)               500500    \n",
      "_________________________________________________________________\n",
      "dropout_2 (Dropout)          (None, 500)               0         \n",
      "_________________________________________________________________\n",
      "dense_3 (Dense)              (None, 5)                 2505      \n",
      "=================================================================\n",
      "Total params: 14,968,613\n",
      "Trainable params: 14,968,373\n",
      "Non-trainable params: 240\n",
      "_________________________________________________________________\n",
      "None\n"
     ]
    }
   ],
   "source": [
    "optimiser = optimizers.Adam(lr=0.001)\n",
    "model.compile(optimizer=optimiser, loss='categorical_crossentropy', metrics=['categorical_accuracy'])\n",
    "print (model.summary())"
   ]
  },
  {
   "cell_type": "markdown",
   "metadata": {},
   "source": [
    "Let us create the `train_generator` and the `val_generator` which will be used in `.fit_generator`."
   ]
  },
  {
   "cell_type": "code",
   "execution_count": 9,
   "metadata": {},
   "outputs": [],
   "source": [
    "train_generator = generator(train_path, train_doc, batch_size, 30,250,250)\n",
    "val_generator = generator(val_path, val_doc, batch_size,30,250,250)"
   ]
  },
  {
   "cell_type": "code",
   "execution_count": 10,
   "metadata": {},
   "outputs": [],
   "source": [
    "model_name = 'model_init' + '_' + str(curr_dt_time).replace(' ','').replace(':','_') + '/'\n",
    "    \n",
    "if not os.path.exists(model_name):\n",
    "    os.mkdir(model_name)\n",
    "        \n",
    "filepath = model_name + 'model-{epoch:05d}-{loss:.5f}-{categorical_accuracy:.5f}-{val_loss:.5f}-{val_categorical_accuracy:.5f}.h5'\n",
    "\n",
    "checkpoint = ModelCheckpoint(filepath, monitor='val_loss', verbose=1, save_best_only=False, save_weights_only=False, mode='auto', period=1)\n",
    "\n",
    "LR = ReduceLROnPlateau(monitor='val_loss', factor=0.5, patience=2, cooldown=1, verbose=1) # write the REducelronplateau code here\n",
    "callbacks_list = [checkpoint, LR]"
   ]
  },
  {
   "cell_type": "markdown",
   "metadata": {},
   "source": [
    "The `steps_per_epoch` and `validation_steps` are used by `fit_generator` to decide the number of next() calls it need to make."
   ]
  },
  {
   "cell_type": "code",
   "execution_count": 11,
   "metadata": {},
   "outputs": [],
   "source": [
    "if (num_train_sequences%batch_size) == 0:\n",
    "    steps_per_epoch = int(num_train_sequences/batch_size)\n",
    "else:\n",
    "    steps_per_epoch = (num_train_sequences//batch_size) + 1\n",
    "\n",
    "if (num_val_sequences%batch_size) == 0:\n",
    "    validation_steps = int(num_val_sequences/batch_size)\n",
    "else:\n",
    "    validation_steps = (num_val_sequences//batch_size) + 1"
   ]
  },
  {
   "cell_type": "markdown",
   "metadata": {},
   "source": [
    "Let us now fit the model. This will start training the model and with the help of the checkpoints, you'll be able to save the model at the end of each epoch."
   ]
  },
  {
   "cell_type": "code",
   "execution_count": 12,
   "metadata": {},
   "outputs": [
    {
     "name": "stdout",
     "output_type": "stream",
     "text": [
      "Source path =  ./Project_data/val ; batch size = 10\n",
      "Source path =  ./Project_data/train ; batch size = 10\n",
      "Epoch 1/10\n"
     ]
    },
    {
     "name": "stderr",
     "output_type": "stream",
     "text": [
      "/mnt/disks/user/anaconda3/lib/python3.6/site-packages/ipykernel_launcher.py:13: DeprecationWarning: `imread` is deprecated!\n",
      "`imread` is deprecated in SciPy 1.0.0, and will be removed in 1.2.0.\n",
      "Use ``imageio.imread`` instead.\n",
      "  del sys.path[0]\n",
      "/mnt/disks/user/anaconda3/lib/python3.6/site-packages/ipykernel_launcher.py:17: DeprecationWarning: `imresize` is deprecated!\n",
      "`imresize` is deprecated in SciPy 1.0.0, and will be removed in 1.2.0.\n",
      "Use ``skimage.transform.resize`` instead.\n"
     ]
    },
    {
     "name": "stdout",
     "output_type": "stream",
     "text": [
      "65/67 [============================>.] - ETA: 7s - loss: 12.8517 - categorical_accuracy: 0.1877 Batch:  67 Index: 10\n"
     ]
    },
    {
     "name": "stderr",
     "output_type": "stream",
     "text": [
      "/mnt/disks/user/anaconda3/lib/python3.6/site-packages/ipykernel_launcher.py:41: DeprecationWarning: `imread` is deprecated!\n",
      "`imread` is deprecated in SciPy 1.0.0, and will be removed in 1.2.0.\n",
      "Use ``imageio.imread`` instead.\n",
      "/mnt/disks/user/anaconda3/lib/python3.6/site-packages/ipykernel_launcher.py:45: DeprecationWarning: `imresize` is deprecated!\n",
      "`imresize` is deprecated in SciPy 1.0.0, and will be removed in 1.2.0.\n",
      "Use ``skimage.transform.resize`` instead.\n"
     ]
    },
    {
     "name": "stdout",
     "output_type": "stream",
     "text": [
      "67/67 [==============================] - 271s 4s/step - loss: 12.7178 - categorical_accuracy: 0.1964 - val_loss: 13.5392 - val_categorical_accuracy: 0.1600\n",
      "\n",
      "Epoch 00001: saving model to model_init_2020-04-1207_47_03.165125/model-00001-12.79419-0.19155-13.53920-0.16000.h5\n",
      "Epoch 2/10\n",
      "67/67 [==============================] - 51s 765ms/step - loss: 12.7501 - categorical_accuracy: 0.2090 - val_loss: 13.5392 - val_categorical_accuracy: 0.1600\n",
      "\n",
      "Epoch 00002: saving model to model_init_2020-04-1207_47_03.165125/model-00002-12.75014-0.20896-13.53920-0.16000.h5\n",
      "Epoch 3/10\n",
      "67/67 [==============================] - 51s 757ms/step - loss: 13.0709 - categorical_accuracy: 0.1891 - val_loss: 13.5392 - val_categorical_accuracy: 0.1600\n",
      "\n",
      "Epoch 00003: saving model to model_init_2020-04-1207_47_03.165125/model-00003-13.07089-0.18905-13.53920-0.16000.h5\n",
      "\n",
      "Epoch 00003: ReduceLROnPlateau reducing learning rate to 0.0005000000237487257.\n",
      "Epoch 4/10\n",
      "67/67 [==============================] - 47s 702ms/step - loss: 13.5520 - categorical_accuracy: 0.1592 - val_loss: 13.5392 - val_categorical_accuracy: 0.1600\n",
      "\n",
      "Epoch 00004: saving model to model_init_2020-04-1207_47_03.165125/model-00004-13.55203-0.15920-13.53920-0.16000.h5\n",
      "Epoch 5/10\n",
      "67/67 [==============================] - 48s 711ms/step - loss: 12.9907 - categorical_accuracy: 0.1940 - val_loss: 13.5392 - val_categorical_accuracy: 0.1600\n",
      "\n",
      "Epoch 00005: saving model to model_init_2020-04-1207_47_03.165125/model-00005-12.99070-0.19403-13.53920-0.16000.h5\n",
      "\n",
      "Epoch 00005: ReduceLROnPlateau reducing learning rate to 0.0002500000118743628.\n",
      "Epoch 6/10\n",
      "67/67 [==============================] - 47s 706ms/step - loss: 13.2313 - categorical_accuracy: 0.1791 - val_loss: 13.5392 - val_categorical_accuracy: 0.1600\n",
      "\n",
      "Epoch 00006: saving model to model_init_2020-04-1207_47_03.165125/model-00006-13.23127-0.17910-13.53920-0.16000.h5\n",
      "Epoch 7/10\n",
      "67/67 [==============================] - 46s 684ms/step - loss: 13.6322 - categorical_accuracy: 0.1542 - val_loss: 13.5392 - val_categorical_accuracy: 0.1600\n",
      "\n",
      "Epoch 00007: saving model to model_init_2020-04-1207_47_03.165125/model-00007-13.63222-0.15423-13.53920-0.16000.h5\n",
      "\n",
      "Epoch 00007: ReduceLROnPlateau reducing learning rate to 0.0001250000059371814.\n",
      "Epoch 8/10\n",
      "67/67 [==============================] - 46s 681ms/step - loss: 12.2690 - categorical_accuracy: 0.2388 - val_loss: 13.5392 - val_categorical_accuracy: 0.1600\n",
      "\n",
      "Epoch 00008: saving model to model_init_2020-04-1207_47_03.165125/model-00008-12.26900-0.23881-13.53920-0.16000.h5\n",
      "Epoch 9/10\n",
      "67/67 [==============================] - 46s 693ms/step - loss: 12.7501 - categorical_accuracy: 0.2090 - val_loss: 13.5392 - val_categorical_accuracy: 0.1600\n",
      "\n",
      "Epoch 00009: saving model to model_init_2020-04-1207_47_03.165125/model-00009-12.75014-0.20896-13.53920-0.16000.h5\n",
      "\n",
      "Epoch 00009: ReduceLROnPlateau reducing learning rate to 6.25000029685907e-05.\n",
      "Epoch 10/10\n",
      "67/67 [==============================] - 45s 678ms/step - loss: 13.4718 - categorical_accuracy: 0.1642 - val_loss: 13.5392 - val_categorical_accuracy: 0.1600\n",
      "\n",
      "Epoch 00010: saving model to model_init_2020-04-1207_47_03.165125/model-00010-13.47184-0.16418-13.53920-0.16000.h5\n"
     ]
    }
   ],
   "source": [
    "model_result = model.fit_generator(train_generator, steps_per_epoch=steps_per_epoch, epochs=num_epochs, verbose=1, \n",
    "                    callbacks=callbacks_list, validation_data=val_generator, \n",
    "                    validation_steps=validation_steps, class_weight=None, workers=1, initial_epoch=0)"
   ]
  },
  {
   "cell_type": "code",
   "execution_count": 13,
   "metadata": {},
   "outputs": [],
   "source": [
    "import matplotlib.pyplot as plt\n",
    "% matplotlib inline\n",
    "def plot(history):\n",
    "    fig, axes = plt.subplots(nrows=1, ncols=2, figsize=(15,4))\n",
    "    axes[0].plot(history.history['loss'])   \n",
    "    axes[0].plot(history.history['val_loss'])\n",
    "    axes[0].legend(['loss','val_loss'])\n",
    "\n",
    "    axes[1].plot(history.history['categorical_accuracy'])   \n",
    "    axes[1].plot(history.history['val_categorical_accuracy'])\n",
    "    axes[1].legend(['categorical_accuracy','val_categorical_accuracy'])"
   ]
  },
  {
   "cell_type": "code",
   "execution_count": 14,
   "metadata": {},
   "outputs": [
    {
     "data": {
      "image/png": "[encoded data removed]",
      "text/plain": [
       "<Figure size 1080x288 with 2 Axes>"
      ]
     },
     "metadata": {},
     "output_type": "display_data"
    }
   ],
   "source": [
    "plot(model_result)"
   ]
  },
  {
   "cell_type": "code",
   "execution_count": 15,
   "metadata": {},
   "outputs": [],
   "source": [
    "## Model 2 - Modify image Size values in x an y"
   ]
  },
  {
   "cell_type": "code",
   "execution_count": 16,
   "metadata": {},
   "outputs": [],
   "source": [
    "# Initialize parameters\n",
    "\n",
    "x = 30 # number of images you use for each video\n",
    "y = 200 # final size of the input images (width)\n",
    "z = 200 # final size of the input images (height)"
   ]
  },
  {
   "cell_type": "code",
   "execution_count": 17,
   "metadata": {},
   "outputs": [],
   "source": [
    "from keras.models import Sequential, Model\n",
    "from keras.layers import Dense, GRU, Flatten, TimeDistributed, Flatten, BatchNormalization, Activation, Dropout\n",
    "from keras.layers.convolutional import Conv3D, MaxPooling3D\n",
    "from keras.callbacks import ModelCheckpoint, ReduceLROnPlateau\n",
    "from keras import optimizers\n",
    "\n",
    "model = Sequential()\n",
    "\n",
    "#Layer - 1\n",
    "model.add(Conv3D(8, #number of filters \n",
    "                 kernel_size=(3,3,3), \n",
    "                 input_shape=(30, y, z, 3),\n",
    "                 padding='same'))\n",
    "model.add(BatchNormalization())\n",
    "model.add(Activation('relu'))\n",
    "model.add(MaxPooling3D(pool_size=(2,2,2)))\n",
    "\n",
    "#Layer - 2\n",
    "model.add(Conv3D(16, #Number of filters, \n",
    "                 kernel_size=(3,3,3), \n",
    "                 padding='same'))\n",
    "model.add(BatchNormalization())\n",
    "model.add(Activation('relu'))\n",
    "model.add(MaxPooling3D(pool_size=(2,2,2)))\n",
    "\n",
    "#Layer - 3\n",
    "model.add(Conv3D(32, #Number of filters \n",
    "                 kernel_size=(3,3,3), \n",
    "                 padding='same'))\n",
    "model.add(BatchNormalization())\n",
    "model.add(Activation('relu'))\n",
    "model.add(MaxPooling3D(pool_size=(2,2,2)))\n",
    "\n",
    "#Layer - 4\n",
    "model.add(Conv3D(64, #Number pf filters \n",
    "                 kernel_size=(3,3,3), \n",
    "                 padding='same'))\n",
    "model.add(BatchNormalization())\n",
    "model.add(Activation('relu'))\n",
    "model.add(MaxPooling3D(pool_size=(2,2,2)))\n",
    "\n",
    "#Flatten Layers\n",
    "model.add(Flatten())\n",
    "\n",
    "model.add(Dense(500, activation='relu'))\n",
    "model.add(Dropout(0.5))\n",
    "\n",
    "model.add(Dense(250, activation='relu'))\n",
    "model.add(Dropout(0.5))\n",
    "\n",
    "#softmax layer\n",
    "model.add(Dense(5, activation='softmax'))"
   ]
  },
  {
   "cell_type": "code",
   "execution_count": 18,
   "metadata": {},
   "outputs": [
    {
     "name": "stdout",
     "output_type": "stream",
     "text": [
      "_________________________________________________________________\n",
      "Layer (type)                 Output Shape              Param #   \n",
      "=================================================================\n",
      "conv3d_5 (Conv3D)            (None, 30, 200, 200, 8)   656       \n",
      "_________________________________________________________________\n",
      "batch_normalization_5 (Batch (None, 30, 200, 200, 8)   32        \n",
      "_________________________________________________________________\n",
      "activation_5 (Activation)    (None, 30, 200, 200, 8)   0         \n",
      "_________________________________________________________________\n",
      "max_pooling3d_5 (MaxPooling3 (None, 15, 100, 100, 8)   0         \n",
      "_________________________________________________________________\n",
      "conv3d_6 (Conv3D)            (None, 15, 100, 100, 16)  3472      \n",
      "_________________________________________________________________\n",
      "batch_normalization_6 (Batch (None, 15, 100, 100, 16)  64        \n",
      "_________________________________________________________________\n",
      "activation_6 (Activation)    (None, 15, 100, 100, 16)  0         \n",
      "_________________________________________________________________\n",
      "max_pooling3d_6 (MaxPooling3 (None, 7, 50, 50, 16)     0         \n",
      "_________________________________________________________________\n",
      "conv3d_7 (Conv3D)            (None, 7, 50, 50, 32)     13856     \n",
      "_________________________________________________________________\n",
      "batch_normalization_7 (Batch (None, 7, 50, 50, 32)     128       \n",
      "_________________________________________________________________\n",
      "activation_7 (Activation)    (None, 7, 50, 50, 32)     0         \n",
      "_________________________________________________________________\n",
      "max_pooling3d_7 (MaxPooling3 (None, 3, 25, 25, 32)     0         \n",
      "_________________________________________________________________\n",
      "conv3d_8 (Conv3D)            (None, 3, 25, 25, 64)     55360     \n",
      "_________________________________________________________________\n",
      "batch_normalization_8 (Batch (None, 3, 25, 25, 64)     256       \n",
      "_________________________________________________________________\n",
      "activation_8 (Activation)    (None, 3, 25, 25, 64)     0         \n",
      "_________________________________________________________________\n",
      "max_pooling3d_8 (MaxPooling3 (None, 1, 12, 12, 64)     0         \n",
      "_________________________________________________________________\n",
      "flatten_2 (Flatten)          (None, 9216)              0         \n",
      "_________________________________________________________________\n",
      "dense_4 (Dense)              (None, 500)               4608500   \n",
      "_________________________________________________________________\n",
      "dropout_3 (Dropout)          (None, 500)               0         \n",
      "_________________________________________________________________\n",
      "dense_5 (Dense)              (None, 250)               125250    \n",
      "_________________________________________________________________\n",
      "dropout_4 (Dropout)          (None, 250)               0         \n",
      "_________________________________________________________________\n",
      "dense_6 (Dense)              (None, 5)                 1255      \n",
      "=================================================================\n",
      "Total params: 4,808,829\n",
      "Trainable params: 4,808,589\n",
      "Non-trainable params: 240\n",
      "_________________________________________________________________\n",
      "None\n"
     ]
    }
   ],
   "source": [
    "optimiser = optimizers.Adam(lr=0.001)\n",
    "model.compile(optimizer=optimiser, loss='categorical_crossentropy', metrics=['categorical_accuracy'])\n",
    "print (model.summary())"
   ]
  },
  {
   "cell_type": "code",
   "execution_count": 19,
   "metadata": {},
   "outputs": [],
   "source": [
    "train_generator = generator(train_path, train_doc, batch_size,30,200,200)\n",
    "val_generator = generator(val_path, val_doc, batch_size,30,200,200)"
   ]
  },
  {
   "cell_type": "code",
   "execution_count": 20,
   "metadata": {},
   "outputs": [
    {
     "name": "stdout",
     "output_type": "stream",
     "text": [
      "Source path =  ./Project_data/val ; batch size = 10\n",
      "Source path =  ./Project_data/train ; batch size = Epoch 1/1010\n",
      "\n"
     ]
    },
    {
     "name": "stderr",
     "output_type": "stream",
     "text": [
      "/mnt/disks/user/anaconda3/lib/python3.6/site-packages/ipykernel_launcher.py:13: DeprecationWarning: `imread` is deprecated!\n",
      "`imread` is deprecated in SciPy 1.0.0, and will be removed in 1.2.0.\n",
      "Use ``imageio.imread`` instead.\n",
      "  del sys.path[0]\n",
      "/mnt/disks/user/anaconda3/lib/python3.6/site-packages/ipykernel_launcher.py:17: DeprecationWarning: `imresize` is deprecated!\n",
      "`imresize` is deprecated in SciPy 1.0.0, and will be removed in 1.2.0.\n",
      "Use ``skimage.transform.resize`` instead.\n"
     ]
    },
    {
     "name": "stdout",
     "output_type": "stream",
     "text": [
      "65/67 [============================>.] - ETA: 3s - loss: 6.6122 - categorical_accuracy: 0.2815Batch:  67 Index: 10\n"
     ]
    },
    {
     "name": "stderr",
     "output_type": "stream",
     "text": [
      "/mnt/disks/user/anaconda3/lib/python3.6/site-packages/ipykernel_launcher.py:41: DeprecationWarning: `imread` is deprecated!\n",
      "`imread` is deprecated in SciPy 1.0.0, and will be removed in 1.2.0.\n",
      "Use ``imageio.imread`` instead.\n",
      "/mnt/disks/user/anaconda3/lib/python3.6/site-packages/ipykernel_launcher.py:45: DeprecationWarning: `imresize` is deprecated!\n",
      "`imresize` is deprecated in SciPy 1.0.0, and will be removed in 1.2.0.\n",
      "Use ``skimage.transform.resize`` instead.\n"
     ]
    },
    {
     "name": "stdout",
     "output_type": "stream",
     "text": [
      "67/67 [==============================] - 117s 2s/step - loss: 6.4641 - categorical_accuracy: 0.2796 - val_loss: 1.5766 - val_categorical_accuracy: 0.2700\n",
      "\n",
      "Epoch 00001: saving model to model_init_2020-04-1207_47_03.165125/model-00001-6.51434-0.27903-1.57658-0.27000.h5\n",
      "Epoch 2/10\n",
      "67/67 [==============================] - 36s 536ms/step - loss: 1.5568 - categorical_accuracy: 0.2935 - val_loss: 1.6498 - val_categorical_accuracy: 0.3000\n",
      "\n",
      "Epoch 00002: saving model to model_init_2020-04-1207_47_03.165125/model-00002-1.55682-0.29353-1.64976-0.30000.h5\n",
      "Epoch 3/10\n",
      "67/67 [==============================] - 37s 557ms/step - loss: 1.5838 - categorical_accuracy: 0.2786 - val_loss: 1.4258 - val_categorical_accuracy: 0.3400\n",
      "\n",
      "Epoch 00003: saving model to model_init_2020-04-1207_47_03.165125/model-00003-1.58375-0.27861-1.42576-0.34000.h5\n",
      "Epoch 4/10\n",
      "67/67 [==============================] - 37s 558ms/step - loss: 1.5029 - categorical_accuracy: 0.3184 - val_loss: 1.4301 - val_categorical_accuracy: 0.4000\n",
      "\n",
      "Epoch 00004: saving model to model_init_2020-04-1207_47_03.165125/model-00004-1.50286-0.31841-1.43012-0.40000.h5\n",
      "Epoch 5/10\n",
      "67/67 [==============================] - 39s 583ms/step - loss: 1.4637 - categorical_accuracy: 0.3333 - val_loss: 1.2676 - val_categorical_accuracy: 0.5300\n",
      "\n",
      "Epoch 00005: saving model to model_init_2020-04-1207_47_03.165125/model-00005-1.46372-0.33333-1.26761-0.53000.h5\n",
      "Epoch 6/10\n",
      "67/67 [==============================] - 38s 562ms/step - loss: 1.4686 - categorical_accuracy: 0.3383 - val_loss: 1.4662 - val_categorical_accuracy: 0.2000\n",
      "\n",
      "Epoch 00006: saving model to model_init_2020-04-1207_47_03.165125/model-00006-1.46864-0.33831-1.46622-0.20000.h5\n",
      "Epoch 7/10\n",
      "67/67 [==============================] - 36s 538ms/step - loss: 1.4948 - categorical_accuracy: 0.3483 - val_loss: 1.2568 - val_categorical_accuracy: 0.5000\n",
      "\n",
      "Epoch 00007: saving model to model_init_2020-04-1207_47_03.165125/model-00007-1.49479-0.34826-1.25676-0.50000.h5\n",
      "Epoch 8/10\n",
      "67/67 [==============================] - 37s 556ms/step - loss: 1.4466 - categorical_accuracy: 0.3632 - val_loss: 1.3751 - val_categorical_accuracy: 0.3200\n",
      "\n",
      "Epoch 00008: saving model to model_init_2020-04-1207_47_03.165125/model-00008-1.44660-0.36318-1.37514-0.32000.h5\n",
      "Epoch 9/10\n",
      "67/67 [==============================] - 38s 563ms/step - loss: 1.3580 - categorical_accuracy: 0.4080 - val_loss: 1.1590 - val_categorical_accuracy: 0.4600\n",
      "\n",
      "Epoch 00009: saving model to model_init_2020-04-1207_47_03.165125/model-00009-1.35802-0.40796-1.15897-0.46000.h5\n",
      "Epoch 10/10\n",
      "67/67 [==============================] - 37s 547ms/step - loss: 1.3396 - categorical_accuracy: 0.4030 - val_loss: 2.0284 - val_categorical_accuracy: 0.2700\n",
      "\n",
      "Epoch 00010: saving model to model_init_2020-04-1207_47_03.165125/model-00010-1.33958-0.40299-2.02843-0.27000.h5\n"
     ]
    }
   ],
   "source": [
    "model_result=model.fit_generator(train_generator, steps_per_epoch=steps_per_epoch, epochs=num_epochs, verbose=1, \n",
    "                    callbacks=callbacks_list, validation_data=val_generator, \n",
    "                    validation_steps=validation_steps, class_weight=None, workers=1, initial_epoch=0)"
   ]
  },
  {
   "cell_type": "code",
   "execution_count": 21,
   "metadata": {},
   "outputs": [
    {
     "data": {
      "image/png": "[encoded data removed]",
      "text/plain": [
       "<Figure size 1080x288 with 2 Axes>"
      ]
     },
     "metadata": {},
     "output_type": "display_data"
    }
   ],
   "source": [
    "plot(model_result)"
   ]
  },
  {
   "cell_type": "code",
   "execution_count": 22,
   "metadata": {},
   "outputs": [],
   "source": [
    "## Model 3 \n",
    "# Use Optimizer SGD instead of Adam\n"
   ]
  },
  {
   "cell_type": "code",
   "execution_count": 23,
   "metadata": {},
   "outputs": [
    {
     "name": "stdout",
     "output_type": "stream",
     "text": [
      "_________________________________________________________________\n",
      "Layer (type)                 Output Shape              Param #   \n",
      "=================================================================\n",
      "conv3d_9 (Conv3D)            (None, 30, 200, 200, 8)   656       \n",
      "_________________________________________________________________\n",
      "batch_normalization_9 (Batch (None, 30, 200, 200, 8)   32        \n",
      "_________________________________________________________________\n",
      "activation_9 (Activation)    (None, 30, 200, 200, 8)   0         \n",
      "_________________________________________________________________\n",
      "max_pooling3d_9 (MaxPooling3 (None, 15, 100, 100, 8)   0         \n",
      "_________________________________________________________________\n",
      "conv3d_10 (Conv3D)           (None, 15, 100, 100, 16)  3472      \n",
      "_________________________________________________________________\n",
      "batch_normalization_10 (Batc (None, 15, 100, 100, 16)  64        \n",
      "_________________________________________________________________\n",
      "activation_10 (Activation)   (None, 15, 100, 100, 16)  0         \n",
      "_________________________________________________________________\n",
      "max_pooling3d_10 (MaxPooling (None, 7, 50, 50, 16)     0         \n",
      "_________________________________________________________________\n",
      "conv3d_11 (Conv3D)           (None, 7, 50, 50, 32)     13856     \n",
      "_________________________________________________________________\n",
      "batch_normalization_11 (Batc (None, 7, 50, 50, 32)     128       \n",
      "_________________________________________________________________\n",
      "activation_11 (Activation)   (None, 7, 50, 50, 32)     0         \n",
      "_________________________________________________________________\n",
      "max_pooling3d_11 (MaxPooling (None, 3, 25, 25, 32)     0         \n",
      "_________________________________________________________________\n",
      "conv3d_12 (Conv3D)           (None, 3, 25, 25, 64)     55360     \n",
      "_________________________________________________________________\n",
      "batch_normalization_12 (Batc (None, 3, 25, 25, 64)     256       \n",
      "_________________________________________________________________\n",
      "activation_12 (Activation)   (None, 3, 25, 25, 64)     0         \n",
      "_________________________________________________________________\n",
      "max_pooling3d_12 (MaxPooling (None, 1, 12, 12, 64)     0         \n",
      "_________________________________________________________________\n",
      "flatten_3 (Flatten)          (None, 9216)              0         \n",
      "_________________________________________________________________\n",
      "dense_7 (Dense)              (None, 500)               4608500   \n",
      "_________________________________________________________________\n",
      "dropout_5 (Dropout)          (None, 500)               0         \n",
      "_________________________________________________________________\n",
      "dense_8 (Dense)              (None, 250)               125250    \n",
      "_________________________________________________________________\n",
      "dropout_6 (Dropout)          (None, 250)               0         \n",
      "_________________________________________________________________\n",
      "dense_9 (Dense)              (None, 5)                 1255      \n",
      "=================================================================\n",
      "Total params: 4,808,829\n",
      "Trainable params: 4,808,589\n",
      "Non-trainable params: 240\n",
      "_________________________________________________________________\n",
      "None\n"
     ]
    }
   ],
   "source": [
    "from keras.models import Sequential, Model\n",
    "from keras.layers import Dense, GRU, Flatten, TimeDistributed, Flatten, BatchNormalization, Activation, Dropout\n",
    "from keras.layers.convolutional import Conv3D, MaxPooling3D\n",
    "from keras.callbacks import ModelCheckpoint, ReduceLROnPlateau\n",
    "from keras import optimizers\n",
    "\n",
    "model = Sequential()\n",
    "model = Sequential()\n",
    "#Layer - 1\n",
    "model.add(Conv3D(8, #number of filters \n",
    "                 kernel_size=(3,3,3), \n",
    "                 input_shape=(30, 200, 200, 3),\n",
    "                 padding='same'))\n",
    "model.add(BatchNormalization())\n",
    "model.add(Activation('relu'))\n",
    "model.add(MaxPooling3D(pool_size=(2,2,2)))\n",
    "\n",
    "#Layer - 2\n",
    "model.add(Conv3D(16, #Number of filters, \n",
    "                 kernel_size=(3,3,3), \n",
    "                 padding='same'))\n",
    "model.add(BatchNormalization())\n",
    "model.add(Activation('relu'))\n",
    "model.add(MaxPooling3D(pool_size=(2,2,2)))\n",
    "\n",
    "#Layer - 3\n",
    "model.add(Conv3D(32, #Number of filters \n",
    "                 kernel_size=(3,3,3), \n",
    "                 padding='same'))\n",
    "model.add(BatchNormalization())\n",
    "model.add(Activation('relu'))\n",
    "model.add(MaxPooling3D(pool_size=(2,2,2)))\n",
    "\n",
    "#Layer - 4\n",
    "model.add(Conv3D(64, #Number pf filters \n",
    "                 kernel_size=(3,3,3), \n",
    "                 padding='same'))\n",
    "model.add(BatchNormalization())\n",
    "model.add(Activation('relu'))\n",
    "model.add(MaxPooling3D(pool_size=(2,2,2)))\n",
    "\n",
    "#Flatten Layers\n",
    "model.add(Flatten())\n",
    "\n",
    "model.add(Dense(500, activation='relu'))\n",
    "model.add(Dropout(0.5))\n",
    "\n",
    "model.add(Dense(250, activation='relu'))\n",
    "model.add(Dropout(0.5))\n",
    "\n",
    "#softmax layer\n",
    "model.add(Dense(5, activation='softmax'))\n",
    "\n",
    "\n",
    "sgd = optimizers.SGD(lr=0.01, decay=1e-6, momentum=0.9, nesterov=True)\n",
    "model.compile(optimizer=sgd,loss='categorical_crossentropy', metrics=['categorical_accuracy'])\n",
    "print (model.summary())"
   ]
  },
  {
   "cell_type": "code",
   "execution_count": 24,
   "metadata": {},
   "outputs": [],
   "source": [
    "train_generator = generator(train_path, train_doc, batch_size,30,200,200)\n",
    "val_generator = generator(val_path, val_doc, batch_size,30,200,200)"
   ]
  },
  {
   "cell_type": "code",
   "execution_count": 25,
   "metadata": {},
   "outputs": [
    {
     "name": "stdout",
     "output_type": "stream",
     "text": [
      "Source path =  ./Project_data/val ; batch size = 10\n",
      "Source path =  ./Project_data/train Epoch 1/10\n",
      "; batch size = 10\n"
     ]
    },
    {
     "name": "stderr",
     "output_type": "stream",
     "text": [
      "/mnt/disks/user/anaconda3/lib/python3.6/site-packages/ipykernel_launcher.py:13: DeprecationWarning: `imread` is deprecated!\n",
      "`imread` is deprecated in SciPy 1.0.0, and will be removed in 1.2.0.\n",
      "Use ``imageio.imread`` instead.\n",
      "  del sys.path[0]\n",
      "/mnt/disks/user/anaconda3/lib/python3.6/site-packages/ipykernel_launcher.py:17: DeprecationWarning: `imresize` is deprecated!\n",
      "`imresize` is deprecated in SciPy 1.0.0, and will be removed in 1.2.0.\n",
      "Use ``skimage.transform.resize`` instead.\n"
     ]
    },
    {
     "name": "stdout",
     "output_type": "stream",
     "text": [
      "65/67 [============================>.] - ETA: 3s - loss: 12.7685 - categorical_accuracy: 0.1862Batch:  67 Index: 10\n"
     ]
    },
    {
     "name": "stderr",
     "output_type": "stream",
     "text": [
      "/mnt/disks/user/anaconda3/lib/python3.6/site-packages/ipykernel_launcher.py:41: DeprecationWarning: `imread` is deprecated!\n",
      "`imread` is deprecated in SciPy 1.0.0, and will be removed in 1.2.0.\n",
      "Use ``imageio.imread`` instead.\n",
      "/mnt/disks/user/anaconda3/lib/python3.6/site-packages/ipykernel_launcher.py:45: DeprecationWarning: `imresize` is deprecated!\n",
      "`imresize` is deprecated in SciPy 1.0.0, and will be removed in 1.2.0.\n",
      "Use ``skimage.transform.resize`` instead.\n"
     ]
    },
    {
     "name": "stdout",
     "output_type": "stream",
     "text": [
      "67/67 [==============================] - 114s 2s/step - loss: 12.7717 - categorical_accuracy: 0.1866 - val_loss: 13.5392 - val_categorical_accuracy: 0.1600\n",
      "\n",
      "Epoch 00001: saving model to model_init_2020-04-1207_47_03.165125/model-00001-12.73691-0.18854-13.53920-0.16000.h5\n",
      "Epoch 2/10\n",
      "67/67 [==============================] - 35s 530ms/step - loss: 13.0709 - categorical_accuracy: 0.1891 - val_loss: 13.5392 - val_categorical_accuracy: 0.1600\n",
      "\n",
      "Epoch 00002: saving model to model_init_2020-04-1207_47_03.165125/model-00002-13.07089-0.18905-13.53920-0.16000.h5\n",
      "Epoch 3/10\n",
      "67/67 [==============================] - 38s 560ms/step - loss: 13.4718 - categorical_accuracy: 0.1642 - val_loss: 13.5392 - val_categorical_accuracy: 0.1600\n",
      "\n",
      "Epoch 00003: saving model to model_init_2020-04-1207_47_03.165125/model-00003-13.47184-0.16418-13.53920-0.16000.h5\n",
      "\n",
      "Epoch 00003: ReduceLROnPlateau reducing learning rate to 0.004999999888241291.\n",
      "Epoch 4/10\n",
      "67/67 [==============================] - 36s 538ms/step - loss: 12.9907 - categorical_accuracy: 0.1940 - val_loss: 13.5392 - val_categorical_accuracy: 0.1600\n",
      "\n",
      "Epoch 00004: saving model to model_init_2020-04-1207_47_03.165125/model-00004-12.99070-0.19403-13.53920-0.16000.h5\n",
      "Epoch 5/10\n",
      "67/67 [==============================] - 38s 561ms/step - loss: 12.7501 - categorical_accuracy: 0.2090 - val_loss: 13.5392 - val_categorical_accuracy: 0.1600\n",
      "\n",
      "Epoch 00005: saving model to model_init_2020-04-1207_47_03.165125/model-00005-12.75014-0.20896-13.53920-0.16000.h5\n",
      "\n",
      "Epoch 00005: ReduceLROnPlateau reducing learning rate to 0.0024999999441206455.\n",
      "Epoch 6/10\n",
      "67/67 [==============================] - 37s 556ms/step - loss: 13.1511 - categorical_accuracy: 0.1841 - val_loss: 13.5392 - val_categorical_accuracy: 0.1600\n",
      "\n",
      "Epoch 00006: saving model to model_init_2020-04-1207_47_03.165125/model-00006-13.15108-0.18408-13.53920-0.16000.h5\n",
      "Epoch 7/10\n",
      "67/67 [==============================] - 37s 550ms/step - loss: 12.9907 - categorical_accuracy: 0.1940 - val_loss: 13.5392 - val_categorical_accuracy: 0.1600\n",
      "\n",
      "Epoch 00007: saving model to model_init_2020-04-1207_47_03.165125/model-00007-12.99070-0.19403-13.53920-0.16000.h5\n",
      "\n",
      "Epoch 00007: ReduceLROnPlateau reducing learning rate to 0.0012499999720603228.\n",
      "Epoch 8/10\n",
      "67/67 [==============================] - 37s 545ms/step - loss: 13.5520 - categorical_accuracy: 0.1592 - val_loss: 13.5392 - val_categorical_accuracy: 0.1600\n",
      "\n",
      "Epoch 00008: saving model to model_init_2020-04-1207_47_03.165125/model-00008-13.55203-0.15920-13.53920-0.16000.h5\n",
      "Epoch 9/10\n",
      "67/67 [==============================] - 37s 554ms/step - loss: 12.9907 - categorical_accuracy: 0.1940 - val_loss: 13.5392 - val_categorical_accuracy: 0.1600\n",
      "\n",
      "Epoch 00009: saving model to model_init_2020-04-1207_47_03.165125/model-00009-12.99070-0.19403-13.53920-0.16000.h5\n",
      "\n",
      "Epoch 00009: ReduceLROnPlateau reducing learning rate to 0.0006249999860301614.\n",
      "Epoch 10/10\n",
      "67/67 [==============================] - 37s 550ms/step - loss: 13.1511 - categorical_accuracy: 0.1841 - val_loss: 13.5392 - val_categorical_accuracy: 0.1600\n",
      "\n",
      "Epoch 00010: saving model to model_init_2020-04-1207_47_03.165125/model-00010-13.15108-0.18408-13.53920-0.16000.h5\n"
     ]
    }
   ],
   "source": [
    "model_result=model.fit_generator(train_generator, steps_per_epoch=steps_per_epoch, epochs=num_epochs, verbose=1, \n",
    "                    callbacks=callbacks_list, validation_data=val_generator, \n",
    "                    validation_steps=validation_steps, class_weight=None, workers=1, initial_epoch=0)"
   ]
  },
  {
   "cell_type": "code",
   "execution_count": 26,
   "metadata": {},
   "outputs": [
    {
     "data": {
      "image/png": "[encoded data removed]",
      "text/plain": [
       "<Figure size 1080x288 with 2 Axes>"
      ]
     },
     "metadata": {},
     "output_type": "display_data"
    }
   ],
   "source": [
    "plot(model_result)"
   ]
  },
  {
   "cell_type": "code",
   "execution_count": 27,
   "metadata": {},
   "outputs": [],
   "source": [
    "## Model : Build a CNN into RNN.\n"
   ]
  },
  {
   "cell_type": "code",
   "execution_count": 28,
   "metadata": {},
   "outputs": [
    {
     "name": "stdout",
     "output_type": "stream",
     "text": [
      "_________________________________________________________________\n",
      "Layer (type)                 Output Shape              Param #   \n",
      "=================================================================\n",
      "time_distributed_1 (TimeDist (None, 30, 200, 200, 16)  448       \n",
      "_________________________________________________________________\n",
      "time_distributed_2 (TimeDist (None, 30, 200, 200, 16)  64        \n",
      "_________________________________________________________________\n",
      "time_distributed_3 (TimeDist (None, 30, 100, 100, 16)  0         \n",
      "_________________________________________________________________\n",
      "time_distributed_4 (TimeDist (None, 30, 100, 100, 32)  4640      \n",
      "_________________________________________________________________\n",
      "time_distributed_5 (TimeDist (None, 30, 100, 100, 32)  128       \n",
      "_________________________________________________________________\n",
      "time_distributed_6 (TimeDist (None, 30, 50, 50, 32)    0         \n",
      "_________________________________________________________________\n",
      "time_distributed_7 (TimeDist (None, 30, 50, 50, 64)    18496     \n",
      "_________________________________________________________________\n",
      "time_distributed_8 (TimeDist (None, 30, 50, 50, 64)    256       \n",
      "_________________________________________________________________\n",
      "time_distributed_9 (TimeDist (None, 30, 25, 25, 64)    0         \n",
      "_________________________________________________________________\n",
      "time_distributed_10 (TimeDis (None, 30, 25, 25, 128)   73856     \n",
      "_________________________________________________________________\n",
      "time_distributed_11 (TimeDis (None, 30, 25, 25, 128)   512       \n",
      "_________________________________________________________________\n",
      "time_distributed_12 (TimeDis (None, 30, 12, 12, 128)   0         \n",
      "_________________________________________________________________\n",
      "time_distributed_13 (TimeDis (None, 30, 12, 12, 256)   295168    \n",
      "_________________________________________________________________\n",
      "time_distributed_14 (TimeDis (None, 30, 12, 12, 256)   1024      \n",
      "_________________________________________________________________\n",
      "time_distributed_15 (TimeDis (None, 30, 6, 6, 256)     0         \n",
      "_________________________________________________________________\n",
      "time_distributed_16 (TimeDis (None, 30, 9216)          0         \n",
      "_________________________________________________________________\n",
      "lstm_1 (LSTM)                (None, 200)               7533600   \n",
      "_________________________________________________________________\n",
      "dropout_7 (Dropout)          (None, 200)               0         \n",
      "_________________________________________________________________\n",
      "dense_10 (Dense)             (None, 250)               50250     \n",
      "_________________________________________________________________\n",
      "dropout_8 (Dropout)          (None, 250)               0         \n",
      "_________________________________________________________________\n",
      "dense_11 (Dense)             (None, 5)                 1255      \n",
      "=================================================================\n",
      "Total params: 7,979,697\n",
      "Trainable params: 7,978,705\n",
      "Non-trainable params: 992\n",
      "_________________________________________________________________\n",
      "None\n"
     ]
    }
   ],
   "source": [
    "from keras.models import Sequential, Model\n",
    "from keras.layers import Dense, GRU, Flatten, TimeDistributed, Flatten, BatchNormalization, Activation, Dropout\n",
    "from keras.layers.convolutional import Conv3D, MaxPooling3D,Conv2D, MaxPooling2D\n",
    "from keras.layers.recurrent import LSTM\n",
    "\n",
    "from keras.callbacks import ModelCheckpoint, ReduceLROnPlateau\n",
    "from keras import optimizers\n",
    "\n",
    "model = Sequential()\n",
    "model.add(TimeDistributed(Conv2D(16, (3, 3) , padding='same', activation='relu'), input_shape=(30, 200, 200, 3)))\n",
    "model.add(TimeDistributed(BatchNormalization()))\n",
    "model.add(TimeDistributed(MaxPooling2D((2, 2))))\n",
    "\n",
    "model.add(TimeDistributed(Conv2D(32, (3, 3) , padding='same', activation='relu')))\n",
    "model.add(TimeDistributed(BatchNormalization()))\n",
    "model.add(TimeDistributed(MaxPooling2D((2, 2))))\n",
    "\n",
    "model.add(TimeDistributed(Conv2D(64, (3, 3) , padding='same', activation='relu')))\n",
    "model.add(TimeDistributed(BatchNormalization()))\n",
    "model.add(TimeDistributed(MaxPooling2D((2, 2))))\n",
    "\n",
    "model.add(TimeDistributed(Conv2D(128, (3, 3) , padding='same', activation='relu')))\n",
    "model.add(TimeDistributed(BatchNormalization()))\n",
    "model.add(TimeDistributed(MaxPooling2D((2, 2))))\n",
    "\n",
    "model.add(TimeDistributed(Conv2D(256, (3, 3) , padding='same', activation='relu')))\n",
    "model.add(TimeDistributed(BatchNormalization()))\n",
    "model.add(TimeDistributed(MaxPooling2D((2, 2))))\n",
    "\n",
    "\n",
    "model.add(TimeDistributed(Flatten()))\n",
    "\n",
    "\n",
    "model.add(LSTM(200, dropout=0.2, recurrent_dropout=0.2))\n",
    "model.add(Dropout(0.5))\n",
    "\n",
    "model.add(Dense(250,activation='relu'))\n",
    "model.add(Dropout(0.5))\n",
    "\n",
    "model.add(Dense(5, activation='softmax'))\n",
    "\n",
    "optimiser = optimizers.Adam()\n",
    "        \n",
    "model.compile(optimizer=optimiser, loss='categorical_crossentropy', metrics=['categorical_accuracy'])\n",
    "print (model.summary())\n"
   ]
  },
  {
   "cell_type": "code",
   "execution_count": 29,
   "metadata": {},
   "outputs": [],
   "source": [
    "train_generator = generator(train_path, train_doc, batch_size,30,200,200)\n",
    "val_generator = generator(val_path, val_doc, batch_size,30,200,200)"
   ]
  },
  {
   "cell_type": "code",
   "execution_count": 30,
   "metadata": {},
   "outputs": [
    {
     "name": "stdout",
     "output_type": "stream",
     "text": [
      "Source path =  ./Project_data/val ; batch size = 10\n",
      "Source path =  ./Project_data/train ; batch size =Epoch 1/10\n",
      " 10\n"
     ]
    },
    {
     "name": "stderr",
     "output_type": "stream",
     "text": [
      "/mnt/disks/user/anaconda3/lib/python3.6/site-packages/ipykernel_launcher.py:13: DeprecationWarning: `imread` is deprecated!\n",
      "`imread` is deprecated in SciPy 1.0.0, and will be removed in 1.2.0.\n",
      "Use ``imageio.imread`` instead.\n",
      "  del sys.path[0]\n",
      "/mnt/disks/user/anaconda3/lib/python3.6/site-packages/ipykernel_launcher.py:17: DeprecationWarning: `imresize` is deprecated!\n",
      "`imresize` is deprecated in SciPy 1.0.0, and will be removed in 1.2.0.\n",
      "Use ``skimage.transform.resize`` instead.\n"
     ]
    },
    {
     "name": "stdout",
     "output_type": "stream",
     "text": [
      "65/67 [============================>.] - ETA: 3s - loss: 1.7344 - categorical_accuracy: 0.2246Batch:  67 Index: 10\n"
     ]
    },
    {
     "name": "stderr",
     "output_type": "stream",
     "text": [
      "/mnt/disks/user/anaconda3/lib/python3.6/site-packages/ipykernel_launcher.py:41: DeprecationWarning: `imread` is deprecated!\n",
      "`imread` is deprecated in SciPy 1.0.0, and will be removed in 1.2.0.\n",
      "Use ``imageio.imread`` instead.\n",
      "/mnt/disks/user/anaconda3/lib/python3.6/site-packages/ipykernel_launcher.py:45: DeprecationWarning: `imresize` is deprecated!\n",
      "`imresize` is deprecated in SciPy 1.0.0, and will be removed in 1.2.0.\n",
      "Use ``skimage.transform.resize`` instead.\n"
     ]
    },
    {
     "name": "stdout",
     "output_type": "stream",
     "text": [
      "67/67 [==============================] - 118s 2s/step - loss: 1.7241 - categorical_accuracy: 0.2288 - val_loss: 1.4163 - val_categorical_accuracy: 0.4300\n",
      "\n",
      "Epoch 00001: saving model to model_init_2020-04-1207_47_03.165125/model-00001-1.72988-0.22775-1.41631-0.43000.h5\n",
      "Epoch 2/10\n",
      "67/67 [==============================] - 39s 583ms/step - loss: 1.6977 - categorical_accuracy: 0.2736 - val_loss: 1.6056 - val_categorical_accuracy: 0.2300\n",
      "\n",
      "Epoch 00002: saving model to model_init_2020-04-1207_47_03.165125/model-00002-1.69771-0.27363-1.60561-0.23000.h5\n",
      "Epoch 3/10\n",
      "67/67 [==============================] - 40s 593ms/step - loss: 1.7340 - categorical_accuracy: 0.2189 - val_loss: 1.6986 - val_categorical_accuracy: 0.2400\n",
      "\n",
      "Epoch 00003: saving model to model_init_2020-04-1207_47_03.165125/model-00003-1.73400-0.21891-1.69859-0.24000.h5\n",
      "\n",
      "Epoch 00003: ReduceLROnPlateau reducing learning rate to 0.0005000000237487257.\n",
      "Epoch 4/10\n",
      "67/67 [==============================] - 39s 578ms/step - loss: 1.7245 - categorical_accuracy: 0.2488 - val_loss: 1.5800 - val_categorical_accuracy: 0.2800\n",
      "\n",
      "Epoch 00004: saving model to model_init_2020-04-1207_47_03.165125/model-00004-1.72448-0.24876-1.58002-0.28000.h5\n",
      "Epoch 5/10\n",
      "67/67 [==============================] - 39s 585ms/step - loss: 1.6839 - categorical_accuracy: 0.2736 - val_loss: 1.5604 - val_categorical_accuracy: 0.3200\n",
      "\n",
      "Epoch 00005: saving model to model_init_2020-04-1207_47_03.165125/model-00005-1.68390-0.27363-1.56037-0.32000.h5\n",
      "\n",
      "Epoch 00005: ReduceLROnPlateau reducing learning rate to 0.0002500000118743628.\n",
      "Epoch 6/10\n",
      "67/67 [==============================] - 40s 601ms/step - loss: 1.7101 - categorical_accuracy: 0.2040 - val_loss: 1.5218 - val_categorical_accuracy: 0.2800\n",
      "\n",
      "Epoch 00006: saving model to model_init_2020-04-1207_47_03.165125/model-00006-1.71007-0.20398-1.52183-0.28000.h5\n",
      "Epoch 7/10\n",
      "67/67 [==============================] - 39s 577ms/step - loss: 1.6829 - categorical_accuracy: 0.2537 - val_loss: 1.4960 - val_categorical_accuracy: 0.2900\n",
      "\n",
      "Epoch 00007: saving model to model_init_2020-04-1207_47_03.165125/model-00007-1.68286-0.25373-1.49596-0.29000.h5\n",
      "\n",
      "Epoch 00007: ReduceLROnPlateau reducing learning rate to 0.0001250000059371814.\n",
      "Epoch 8/10\n",
      "67/67 [==============================] - 39s 578ms/step - loss: 1.6240 - categorical_accuracy: 0.2488 - val_loss: 1.4505 - val_categorical_accuracy: 0.4100\n",
      "\n",
      "Epoch 00008: saving model to model_init_2020-04-1207_47_03.165125/model-00008-1.62404-0.24876-1.45050-0.41000.h5\n",
      "Epoch 9/10\n",
      "67/67 [==============================] - 39s 582ms/step - loss: 1.5562 - categorical_accuracy: 0.2935 - val_loss: 1.4415 - val_categorical_accuracy: 0.4000\n",
      "\n",
      "Epoch 00009: saving model to model_init_2020-04-1207_47_03.165125/model-00009-1.55622-0.29353-1.44152-0.40000.h5\n",
      "\n",
      "Epoch 00009: ReduceLROnPlateau reducing learning rate to 6.25000029685907e-05.\n",
      "Epoch 10/10\n",
      "67/67 [==============================] - 39s 579ms/step - loss: 1.5907 - categorical_accuracy: 0.2786 - val_loss: 1.4374 - val_categorical_accuracy: 0.4200\n",
      "\n",
      "Epoch 00010: saving model to model_init_2020-04-1207_47_03.165125/model-00010-1.59069-0.27861-1.43738-0.42000.h5\n"
     ]
    }
   ],
   "source": [
    "model_result=model.fit_generator(train_generator, steps_per_epoch=steps_per_epoch, epochs=num_epochs, verbose=1, \n",
    "                    callbacks=callbacks_list, validation_data=val_generator, \n",
    "                    validation_steps=validation_steps, class_weight=None, workers=1, initial_epoch=0)"
   ]
  },
  {
   "cell_type": "code",
   "execution_count": 31,
   "metadata": {},
   "outputs": [
    {
     "data": {
      "image/png": "[encoded data removed]",
      "text/plain": [
       "<Figure size 1080x288 with 2 Axes>"
      ]
     },
     "metadata": {},
     "output_type": "display_data"
    }
   ],
   "source": [
    "plot(model_result)"
   ]
  },
  {
   "cell_type": "code",
   "execution_count": 32,
   "metadata": {},
   "outputs": [],
   "source": [
    "# Model : Use Optimizer as AdamDelta"
   ]
  },
  {
   "cell_type": "code",
   "execution_count": 33,
   "metadata": {},
   "outputs": [
    {
     "name": "stdout",
     "output_type": "stream",
     "text": [
      "_________________________________________________________________\n",
      "Layer (type)                 Output Shape              Param #   \n",
      "=================================================================\n",
      "conv3d_13 (Conv3D)           (None, 30, 200, 200, 8)   656       \n",
      "_________________________________________________________________\n",
      "batch_normalization_18 (Batc (None, 30, 200, 200, 8)   32        \n",
      "_________________________________________________________________\n",
      "activation_13 (Activation)   (None, 30, 200, 200, 8)   0         \n",
      "_________________________________________________________________\n",
      "max_pooling3d_13 (MaxPooling (None, 15, 100, 100, 8)   0         \n",
      "_________________________________________________________________\n",
      "conv3d_14 (Conv3D)           (None, 15, 100, 100, 16)  3472      \n",
      "_________________________________________________________________\n",
      "batch_normalization_19 (Batc (None, 15, 100, 100, 16)  64        \n",
      "_________________________________________________________________\n",
      "activation_14 (Activation)   (None, 15, 100, 100, 16)  0         \n",
      "_________________________________________________________________\n",
      "max_pooling3d_14 (MaxPooling (None, 7, 50, 50, 16)     0         \n",
      "_________________________________________________________________\n",
      "conv3d_15 (Conv3D)           (None, 7, 50, 50, 32)     13856     \n",
      "_________________________________________________________________\n",
      "batch_normalization_20 (Batc (None, 7, 50, 50, 32)     128       \n",
      "_________________________________________________________________\n",
      "activation_15 (Activation)   (None, 7, 50, 50, 32)     0         \n",
      "_________________________________________________________________\n",
      "max_pooling3d_15 (MaxPooling (None, 3, 25, 25, 32)     0         \n",
      "_________________________________________________________________\n",
      "conv3d_16 (Conv3D)           (None, 3, 25, 25, 64)     55360     \n",
      "_________________________________________________________________\n",
      "batch_normalization_21 (Batc (None, 3, 25, 25, 64)     256       \n",
      "_________________________________________________________________\n",
      "activation_16 (Activation)   (None, 3, 25, 25, 64)     0         \n",
      "_________________________________________________________________\n",
      "max_pooling3d_16 (MaxPooling (None, 1, 12, 12, 64)     0         \n",
      "_________________________________________________________________\n",
      "flatten_5 (Flatten)          (None, 9216)              0         \n",
      "_________________________________________________________________\n",
      "dense_12 (Dense)             (None, 500)               4608500   \n",
      "_________________________________________________________________\n",
      "dropout_9 (Dropout)          (None, 500)               0         \n",
      "_________________________________________________________________\n",
      "dense_13 (Dense)             (None, 250)               125250    \n",
      "_________________________________________________________________\n",
      "dropout_10 (Dropout)         (None, 250)               0         \n",
      "_________________________________________________________________\n",
      "dense_14 (Dense)             (None, 5)                 1255      \n",
      "=================================================================\n",
      "Total params: 4,808,829\n",
      "Trainable params: 4,808,589\n",
      "Non-trainable params: 240\n",
      "_________________________________________________________________\n",
      "None\n"
     ]
    }
   ],
   "source": [
    "from keras.models import Sequential, Model\n",
    "from keras.layers import Dense, GRU, Flatten, TimeDistributed, Flatten, BatchNormalization, Activation, Dropout\n",
    "from keras.layers.convolutional import Conv3D, MaxPooling3D\n",
    "from keras.callbacks import ModelCheckpoint, ReduceLROnPlateau\n",
    "from keras import optimizers\n",
    "import keras\n",
    "model = Sequential()\n",
    "model = Sequential()\n",
    "\n",
    "model.add(Conv3D(8, #number of filters \n",
    "                 kernel_size=(3,3,3), \n",
    "                 input_shape=(30, 200, 200, 3),\n",
    "                 padding='same'))\n",
    "model.add(BatchNormalization())\n",
    "model.add(Activation('relu'))\n",
    "\n",
    "model.add(MaxPooling3D(pool_size=(2,2,2)))\n",
    "\n",
    "model.add(Conv3D(16, #Number of filters, \n",
    "                 kernel_size=(3,3,3), \n",
    "                 padding='same'))\n",
    "model.add(BatchNormalization())\n",
    "model.add(Activation('relu'))\n",
    "\n",
    "model.add(MaxPooling3D(pool_size=(2,2,2)))\n",
    "\n",
    "model.add(Conv3D(32, #Number of filters \n",
    "                 kernel_size=(3,3,3), \n",
    "                 padding='same'))\n",
    "model.add(BatchNormalization())\n",
    "model.add(Activation('relu'))\n",
    "\n",
    "model.add(MaxPooling3D(pool_size=(2,2,2)))\n",
    "\n",
    "model.add(Conv3D(64, #Number pf filters \n",
    "                 kernel_size=(3,3,3), \n",
    "                 padding='same'))\n",
    "model.add(BatchNormalization())\n",
    "model.add(Activation('relu'))\n",
    "\n",
    "model.add(MaxPooling3D(pool_size=(2,2,2)))\n",
    "\n",
    "#Flatten Layers\n",
    "model.add(Flatten())\n",
    "\n",
    "model.add(Dense(500, activation='relu'))\n",
    "model.add(Dropout(0.5))\n",
    "\n",
    "model.add(Dense(250, activation='relu'))\n",
    "model.add(Dropout(0.5))\n",
    "\n",
    "#softmax layer\n",
    "model.add(Dense(5, activation='softmax'))\n",
    "\n",
    "\n",
    "model.compile(optimizer=keras.optimizers.Adadelta(),loss='categorical_crossentropy', metrics=['categorical_accuracy'])\n",
    "print (model.summary())"
   ]
  },
  {
   "cell_type": "code",
   "execution_count": 34,
   "metadata": {},
   "outputs": [],
   "source": [
    "train_generator = generator(train_path, train_doc, batch_size,30,200,200)\n",
    "val_generator = generator(val_path, val_doc, batch_size,30,200,200)"
   ]
  },
  {
   "cell_type": "code",
   "execution_count": 35,
   "metadata": {},
   "outputs": [
    {
     "name": "stdout",
     "output_type": "stream",
     "text": [
      "Source path =  ./Project_data/val ; batch size = 10\n",
      "Source path =  ./Project_data/train ; batch size = 10\n",
      "Epoch 1/10\n"
     ]
    },
    {
     "name": "stderr",
     "output_type": "stream",
     "text": [
      "/mnt/disks/user/anaconda3/lib/python3.6/site-packages/ipykernel_launcher.py:13: DeprecationWarning: `imread` is deprecated!\n",
      "`imread` is deprecated in SciPy 1.0.0, and will be removed in 1.2.0.\n",
      "Use ``imageio.imread`` instead.\n",
      "  del sys.path[0]\n",
      "/mnt/disks/user/anaconda3/lib/python3.6/site-packages/ipykernel_launcher.py:17: DeprecationWarning: `imresize` is deprecated!\n",
      "`imresize` is deprecated in SciPy 1.0.0, and will be removed in 1.2.0.\n",
      "Use ``skimage.transform.resize`` instead.\n"
     ]
    },
    {
     "name": "stdout",
     "output_type": "stream",
     "text": [
      "65/67 [============================>.] - ETA: 3s - loss: 5.8894 - categorical_accuracy: 0.2569Batch:  67 Index: 10\n"
     ]
    },
    {
     "name": "stderr",
     "output_type": "stream",
     "text": [
      "/mnt/disks/user/anaconda3/lib/python3.6/site-packages/ipykernel_launcher.py:41: DeprecationWarning: `imread` is deprecated!\n",
      "`imread` is deprecated in SciPy 1.0.0, and will be removed in 1.2.0.\n",
      "Use ``imageio.imread`` instead.\n",
      "/mnt/disks/user/anaconda3/lib/python3.6/site-packages/ipykernel_launcher.py:45: DeprecationWarning: `imresize` is deprecated!\n",
      "`imresize` is deprecated in SciPy 1.0.0, and will be removed in 1.2.0.\n",
      "Use ``skimage.transform.resize`` instead.\n"
     ]
    },
    {
     "name": "stdout",
     "output_type": "stream",
     "text": [
      "67/67 [==============================] - 112s 2s/step - loss: 5.7597 - categorical_accuracy: 0.2523 - val_loss: 1.5870 - val_categorical_accuracy: 0.2400\n",
      "\n",
      "Epoch 00001: saving model to model_init_2020-04-1207_47_03.165125/model-00001-5.80548-0.25490-1.58701-0.24000.h5\n",
      "Epoch 2/10\n",
      "67/67 [==============================] - 35s 525ms/step - loss: 1.6896 - categorical_accuracy: 0.2289 - val_loss: 1.3595 - val_categorical_accuracy: 0.3100\n",
      "\n",
      "Epoch 00002: saving model to model_init_2020-04-1207_47_03.165125/model-00002-1.68957-0.22886-1.35953-0.31000.h5\n",
      "Epoch 3/10\n",
      "67/67 [==============================] - 37s 550ms/step - loss: 1.4933 - categorical_accuracy: 0.3582 - val_loss: 1.2061 - val_categorical_accuracy: 0.4300\n",
      "\n",
      "Epoch 00003: saving model to model_init_2020-04-1207_47_03.165125/model-00003-1.49327-0.35821-1.20608-0.43000.h5\n",
      "Epoch 4/10\n",
      "67/67 [==============================] - 38s 563ms/step - loss: 1.5092 - categorical_accuracy: 0.3781 - val_loss: 1.3679 - val_categorical_accuracy: 0.3700\n",
      "\n",
      "Epoch 00004: saving model to model_init_2020-04-1207_47_03.165125/model-00004-1.50917-0.37811-1.36789-0.37000.h5\n",
      "Epoch 5/10\n",
      "67/67 [==============================] - 38s 572ms/step - loss: 1.4236 - categorical_accuracy: 0.4080 - val_loss: 1.3800 - val_categorical_accuracy: 0.4500\n",
      "\n",
      "Epoch 00005: saving model to model_init_2020-04-1207_47_03.165125/model-00005-1.42362-0.40796-1.37995-0.45000.h5\n",
      "\n",
      "Epoch 00005: ReduceLROnPlateau reducing learning rate to 0.5.\n",
      "Epoch 6/10\n",
      "67/67 [==============================] - 36s 530ms/step - loss: 1.2878 - categorical_accuracy: 0.4577 - val_loss: 1.2378 - val_categorical_accuracy: 0.5100\n",
      "\n",
      "Epoch 00006: saving model to model_init_2020-04-1207_47_03.165125/model-00006-1.28776-0.45771-1.23785-0.51000.h5\n",
      "Epoch 7/10\n",
      "67/67 [==============================] - 38s 560ms/step - loss: 1.1985 - categorical_accuracy: 0.4876 - val_loss: 1.7870 - val_categorical_accuracy: 0.2900\n",
      "\n",
      "Epoch 00007: saving model to model_init_2020-04-1207_47_03.165125/model-00007-1.19850-0.48756-1.78701-0.29000.h5\n",
      "\n",
      "Epoch 00007: ReduceLROnPlateau reducing learning rate to 0.25.\n",
      "Epoch 8/10\n",
      "67/67 [==============================] - 37s 546ms/step - loss: 1.2154 - categorical_accuracy: 0.4627 - val_loss: 1.0438 - val_categorical_accuracy: 0.4900\n",
      "\n",
      "Epoch 00008: saving model to model_init_2020-04-1207_47_03.165125/model-00008-1.21543-0.46269-1.04380-0.49000.h5\n",
      "Epoch 9/10\n",
      "67/67 [==============================] - 36s 544ms/step - loss: 1.0711 - categorical_accuracy: 0.5373 - val_loss: 0.9762 - val_categorical_accuracy: 0.5900\n",
      "\n",
      "Epoch 00009: saving model to model_init_2020-04-1207_47_03.165125/model-00009-1.07111-0.53731-0.97622-0.59000.h5\n",
      "Epoch 10/10\n",
      "67/67 [==============================] - 37s 553ms/step - loss: 1.0840 - categorical_accuracy: 0.5075 - val_loss: 0.8821 - val_categorical_accuracy: 0.6800\n",
      "\n",
      "Epoch 00010: saving model to model_init_2020-04-1207_47_03.165125/model-00010-1.08403-0.50746-0.88206-0.68000.h5\n"
     ]
    }
   ],
   "source": [
    "model_result = model.fit_generator(train_generator, steps_per_epoch=steps_per_epoch, epochs=num_epochs, verbose=1, \n",
    "                    callbacks=callbacks_list, validation_data=val_generator, \n",
    "                    validation_steps=validation_steps, class_weight=None, workers=1, initial_epoch=0)"
   ]
  },
  {
   "cell_type": "code",
   "execution_count": 36,
   "metadata": {},
   "outputs": [
    {
     "data": {
      "image/png": "[encoded data removed]",
      "text/plain": [
       "<Figure size 1080x288 with 2 Axes>"
      ]
     },
     "metadata": {},
     "output_type": "display_data"
    }
   ],
   "source": [
    "plot(model_result)"
   ]
  },
  {
   "cell_type": "markdown",
   "metadata": {},
   "source": [
    "# Model - Transfer Learning with GRU and training all weights"
   ]
  },
  {
   "cell_type": "code",
   "execution_count": 37,
   "metadata": {},
   "outputs": [
    {
     "name": "stderr",
     "output_type": "stream",
     "text": [
      "/mnt/disks/user/anaconda3/lib/python3.6/site-packages/keras_applications/mobilenet.py:206: UserWarning: MobileNet shape is undefined. Weights for input shape (224, 224) will be loaded.\n",
      "  warnings.warn('MobileNet shape is undefined.'\n"
     ]
    },
    {
     "name": "stdout",
     "output_type": "stream",
     "text": [
      "Downloading data from https://github.com/fchollet/deep-learning-models/releases/download/v0.6/mobilenet_1_0_224_tf_no_top.h5\n",
      "17227776/17225924 [==============================] - 3s 0us/step\n",
      "_________________________________________________________________\n",
      "Layer (type)                 Output Shape              Param #   \n",
      "=================================================================\n",
      "time_distributed_17 (TimeDis (None, 10, 6, 6, 1024)    3228864   \n",
      "_________________________________________________________________\n",
      "time_distributed_18 (TimeDis (None, 10, 6, 6, 1024)    4096      \n",
      "_________________________________________________________________\n",
      "time_distributed_19 (TimeDis (None, 10, 3, 3, 1024)    0         \n",
      "_________________________________________________________________\n",
      "time_distributed_20 (TimeDis (None, 10, 9216)          0         \n",
      "_________________________________________________________________\n",
      "gru_1 (GRU)                  (None, 128)               3588480   \n",
      "_________________________________________________________________\n",
      "dropout_11 (Dropout)         (None, 128)               0         \n",
      "_________________________________________________________________\n",
      "dense_15 (Dense)             (None, 64)                8256      \n",
      "_________________________________________________________________\n",
      "dropout_12 (Dropout)         (None, 64)                0         \n",
      "_________________________________________________________________\n",
      "dense_16 (Dense)             (None, 5)                 325       \n",
      "=================================================================\n",
      "Total params: 6,830,021\n",
      "Trainable params: 6,806,085\n",
      "Non-trainable params: 23,936\n",
      "_________________________________________________________________\n",
      "None\n"
     ]
    }
   ],
   "source": [
    "from keras.applications import mobilenet\n",
    "\n",
    "mobilenet_transfer = mobilenet.MobileNet(weights='imagenet', include_top=False)\n",
    "    \n",
    "        \n",
    "model = Sequential()\n",
    "model.add(TimeDistributed(mobilenet_transfer,input_shape=(10, 200, 200, 3)))\n",
    "\n",
    "\n",
    "model.add(TimeDistributed(BatchNormalization()))\n",
    "model.add(TimeDistributed(MaxPooling2D((2, 2))))\n",
    "model.add(TimeDistributed(Flatten()))\n",
    "\n",
    "model.add(GRU(128))\n",
    "model.add(Dropout(0.5))\n",
    "\n",
    "model.add(Dense(64,activation='relu'))\n",
    "model.add(Dropout(0.5))\n",
    "\n",
    "model.add(Dense(5, activation='softmax'))\n",
    "\n",
    "\n",
    "optimiser = optimizers.Adam()\n",
    "model.compile(optimizer=optimiser, loss='categorical_crossentropy', metrics=['categorical_accuracy'])\n",
    "print (model.summary())"
   ]
  },
  {
   "cell_type": "code",
   "execution_count": 38,
   "metadata": {},
   "outputs": [],
   "source": [
    "train_generator = generator(train_path, train_doc, batch_size,10,200,200)\n",
    "val_generator = generator(val_path, val_doc, batch_size,10,200,200)"
   ]
  },
  {
   "cell_type": "code",
   "execution_count": 39,
   "metadata": {},
   "outputs": [
    {
     "name": "stdout",
     "output_type": "stream",
     "text": [
      "Source path =  ./Project_data/val ; batch size =Source path =  ./Project_data/train ; batch size = 10\n",
      " Epoch 1/10\n",
      "10\n"
     ]
    },
    {
     "name": "stderr",
     "output_type": "stream",
     "text": [
      "/mnt/disks/user/anaconda3/lib/python3.6/site-packages/ipykernel_launcher.py:13: DeprecationWarning: `imread` is deprecated!\n",
      "`imread` is deprecated in SciPy 1.0.0, and will be removed in 1.2.0.\n",
      "Use ``imageio.imread`` instead.\n",
      "  del sys.path[0]\n",
      "/mnt/disks/user/anaconda3/lib/python3.6/site-packages/ipykernel_launcher.py:17: DeprecationWarning: `imresize` is deprecated!\n",
      "`imresize` is deprecated in SciPy 1.0.0, and will be removed in 1.2.0.\n",
      "Use ``skimage.transform.resize`` instead.\n"
     ]
    },
    {
     "name": "stdout",
     "output_type": "stream",
     "text": [
      "56/67 [========================>.....] - ETA: 14s - loss: 1.7072 - categorical_accuracy: 0.2893Batch:  67 Index: 10\n"
     ]
    },
    {
     "name": "stderr",
     "output_type": "stream",
     "text": [
      "/mnt/disks/user/anaconda3/lib/python3.6/site-packages/ipykernel_launcher.py:41: DeprecationWarning: `imread` is deprecated!\n",
      "`imread` is deprecated in SciPy 1.0.0, and will be removed in 1.2.0.\n",
      "Use ``imageio.imread`` instead.\n",
      "/mnt/disks/user/anaconda3/lib/python3.6/site-packages/ipykernel_launcher.py:45: DeprecationWarning: `imresize` is deprecated!\n",
      "`imresize` is deprecated in SciPy 1.0.0, and will be removed in 1.2.0.\n",
      "Use ``skimage.transform.resize`` instead.\n"
     ]
    },
    {
     "name": "stdout",
     "output_type": "stream",
     "text": [
      "67/67 [==============================] - 90s 1s/step - loss: 1.6671 - categorical_accuracy: 0.3005 - val_loss: 1.2948 - val_categorical_accuracy: 0.4600\n",
      "\n",
      "Epoch 00001: saving model to model_init_2020-04-1207_47_03.165125/model-00001-1.67062-0.30015-1.29477-0.46000.h5\n",
      "Epoch 2/10\n",
      "67/67 [==============================] - 26s 395ms/step - loss: 1.6847 - categorical_accuracy: 0.2836 - val_loss: 1.6139 - val_categorical_accuracy: 0.2500\n",
      "\n",
      "Epoch 00002: saving model to model_init_2020-04-1207_47_03.165125/model-00002-1.68475-0.28358-1.61390-0.25000.h5\n",
      "Epoch 3/10\n",
      "67/67 [==============================] - 27s 396ms/step - loss: 1.8102 - categorical_accuracy: 0.2537 - val_loss: 1.6533 - val_categorical_accuracy: 0.1500\n",
      "\n",
      "Epoch 00003: saving model to model_init_2020-04-1207_47_03.165125/model-00003-1.81021-0.25373-1.65335-0.15000.h5\n",
      "\n",
      "Epoch 00003: ReduceLROnPlateau reducing learning rate to 0.0005000000237487257.\n",
      "Epoch 4/10\n",
      "67/67 [==============================] - 26s 394ms/step - loss: 1.7846 - categorical_accuracy: 0.2289 - val_loss: 1.5584 - val_categorical_accuracy: 0.3300\n",
      "\n",
      "Epoch 00004: saving model to model_init_2020-04-1207_47_03.165125/model-00004-1.78460-0.22886-1.55842-0.33000.h5\n",
      "Epoch 5/10\n",
      "67/67 [==============================] - 27s 396ms/step - loss: 1.7220 - categorical_accuracy: 0.1990 - val_loss: 1.5981 - val_categorical_accuracy: 0.2500\n",
      "\n",
      "Epoch 00005: saving model to model_init_2020-04-1207_47_03.165125/model-00005-1.72203-0.19900-1.59814-0.25000.h5\n",
      "\n",
      "Epoch 00005: ReduceLROnPlateau reducing learning rate to 0.0002500000118743628.\n",
      "Epoch 6/10\n",
      "67/67 [==============================] - 27s 396ms/step - loss: 1.7791 - categorical_accuracy: 0.1841 - val_loss: 1.6078 - val_categorical_accuracy: 0.2000\n",
      "\n",
      "Epoch 00006: saving model to model_init_2020-04-1207_47_03.165125/model-00006-1.77911-0.18408-1.60778-0.20000.h5\n",
      "Epoch 7/10\n",
      "67/67 [==============================] - 26s 395ms/step - loss: 1.6320 - categorical_accuracy: 0.2886 - val_loss: 1.6054 - val_categorical_accuracy: 0.2400\n",
      "\n",
      "Epoch 00007: saving model to model_init_2020-04-1207_47_03.165125/model-00007-1.63197-0.28856-1.60541-0.24000.h5\n",
      "\n",
      "Epoch 00007: ReduceLROnPlateau reducing learning rate to 0.0001250000059371814.\n",
      "Epoch 8/10\n",
      "67/67 [==============================] - 26s 395ms/step - loss: 1.6437 - categorical_accuracy: 0.2338 - val_loss: 1.6024 - val_categorical_accuracy: 0.2000\n",
      "\n",
      "Epoch 00008: saving model to model_init_2020-04-1207_47_03.165125/model-00008-1.64373-0.23383-1.60235-0.20000.h5\n",
      "Epoch 9/10\n",
      "67/67 [==============================] - 26s 394ms/step - loss: 1.6682 - categorical_accuracy: 0.1940 - val_loss: 1.5685 - val_categorical_accuracy: 0.3100\n",
      "\n",
      "Epoch 00009: saving model to model_init_2020-04-1207_47_03.165125/model-00009-1.66823-0.19403-1.56846-0.31000.h5\n",
      "\n",
      "Epoch 00009: ReduceLROnPlateau reducing learning rate to 6.25000029685907e-05.\n",
      "Epoch 10/10\n",
      "67/67 [==============================] - 26s 394ms/step - loss: 1.5962 - categorical_accuracy: 0.3035 - val_loss: 1.5586 - val_categorical_accuracy: 0.2800\n",
      "\n",
      "Epoch 00010: saving model to model_init_2020-04-1207_47_03.165125/model-00010-1.59615-0.30348-1.55860-0.28000.h5\n"
     ]
    }
   ],
   "source": [
    "model_result=model.fit_generator(train_generator, steps_per_epoch=steps_per_epoch, epochs=num_epochs, verbose=1, \n",
    "                    callbacks=callbacks_list, validation_data=val_generator, \n",
    "                    validation_steps=validation_steps, class_weight=None, workers=1, initial_epoch=0)\n",
    "\n"
   ]
  },
  {
   "cell_type": "code",
   "execution_count": 40,
   "metadata": {},
   "outputs": [
    {
     "data": {
      "image/png": "[encoded data removed]",
      "text/plain": [
       "<Figure size 1080x288 with 2 Axes>"
      ]
     },
     "metadata": {},
     "output_type": "display_data"
    }
   ],
   "source": [
    "plot(model_result)"
   ]
  },
  {
   "cell_type": "code",
   "execution_count": null,
   "metadata": {},
   "outputs": [],
   "source": []
  }
 ],
 "metadata": {
  "kernelspec": {
   "display_name": "Python 3",
   "language": "python",
   "name": "python3"
  },
  "language_info": {
   "codemirror_mode": {
    "name": "ipython",
    "version": 3
   },
   "file_extension": ".py",
   "mimetype": "text/x-python",
   "name": "python",
   "nbconvert_exporter": "python",
   "pygments_lexer": "ipython3",
   "version": "3.6.8"
  }
 },
 "nbformat": 4,
 "nbformat_minor": 2
}
